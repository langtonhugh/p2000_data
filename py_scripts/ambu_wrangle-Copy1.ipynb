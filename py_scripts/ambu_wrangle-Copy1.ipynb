{
 "cells": [
  {
   "cell_type": "code",
   "execution_count": 1,
   "id": "e03f07c9-3fcc-4379-bd16-f8fb7f5e7532",
   "metadata": {
    "scrolled": true
   },
   "outputs": [
    {
     "data": {
      "text/html": [
       "<div>\n",
       "<style scoped>\n",
       "    .dataframe tbody tr th:only-of-type {\n",
       "        vertical-align: middle;\n",
       "    }\n",
       "\n",
       "    .dataframe tbody tr th {\n",
       "        vertical-align: top;\n",
       "    }\n",
       "\n",
       "    .dataframe thead th {\n",
       "        text-align: right;\n",
       "    }\n",
       "</style>\n",
       "<table border=\"1\" class=\"dataframe\">\n",
       "  <thead>\n",
       "    <tr style=\"text-align: right;\">\n",
       "      <th></th>\n",
       "      <th>scrape_number</th>\n",
       "      <th>X1</th>\n",
       "      <th>X2</th>\n",
       "      <th>X3</th>\n",
       "      <th>X4</th>\n",
       "      <th>X5</th>\n",
       "    </tr>\n",
       "  </thead>\n",
       "  <tbody>\n",
       "    <tr>\n",
       "      <th>0</th>\n",
       "      <td>2573</td>\n",
       "      <td>126158.0</td>\n",
       "      <td>22:34:30</td>\n",
       "      <td>17-02-23</td>\n",
       "      <td>GROUP</td>\n",
       "      <td>A1 12158 Rit 23268 Adriaan Morrienpad Driehuis NHAmbulance Kennemerland (Ambulance 12-158 Witte Kruis)</td>\n",
       "    </tr>\n",
       "    <tr>\n",
       "      <th>1</th>\n",
       "      <td>25660</td>\n",
       "      <td>NaN</td>\n",
       "      <td>NaN</td>\n",
       "      <td>NaN</td>\n",
       "      <td>NaN</td>\n",
       "      <td>NaN</td>\n",
       "    </tr>\n",
       "    <tr>\n",
       "      <th>2</th>\n",
       "      <td>33315</td>\n",
       "      <td>1420054.0</td>\n",
       "      <td>23:50:19</td>\n",
       "      <td>24-04-22</td>\n",
       "      <td>GROUP</td>\n",
       "      <td>A1 AMBU 17154 1e Opbouwstraat 3076PR Rotterdam ROTTDM bon 60012CPA Rijnmond AZRR Ambulance 17-154</td>\n",
       "    </tr>\n",
       "    <tr>\n",
       "      <th>3</th>\n",
       "      <td>20392</td>\n",
       "      <td>NaN</td>\n",
       "      <td>NaN</td>\n",
       "      <td>NaN</td>\n",
       "      <td>NaN</td>\n",
       "      <td>NaN</td>\n",
       "    </tr>\n",
       "    <tr>\n",
       "      <th>4</th>\n",
       "      <td>24735</td>\n",
       "      <td>1520999.0</td>\n",
       "      <td>05:05:00</td>\n",
       "      <td>26-05-23</td>\n",
       "      <td>GROUP</td>\n",
       "      <td>A1 Robertaland SGRAVH : 15118MKA Haaglanden (Monitorcode ALS)</td>\n",
       "    </tr>\n",
       "  </tbody>\n",
       "</table>\n",
       "</div>"
      ],
      "text/plain": [
       "   scrape_number         X1        X2        X3     X4  \\\n",
       "0           2573   126158.0  22:34:30  17-02-23  GROUP   \n",
       "1          25660        NaN       NaN       NaN    NaN   \n",
       "2          33315  1420054.0  23:50:19  24-04-22  GROUP   \n",
       "3          20392        NaN       NaN       NaN    NaN   \n",
       "4          24735  1520999.0  05:05:00  26-05-23  GROUP   \n",
       "\n",
       "                                                                                                       X5  \n",
       "0  A1 12158 Rit 23268 Adriaan Morrienpad Driehuis NHAmbulance Kennemerland (Ambulance 12-158 Witte Kruis)  \n",
       "1                                                                                                     NaN  \n",
       "2       A1 AMBU 17154 1e Opbouwstraat 3076PR Rotterdam ROTTDM bon 60012CPA Rijnmond AZRR Ambulance 17-154  \n",
       "3                                                                                                     NaN  \n",
       "4                                           A1 Robertaland SGRAVH : 15118MKA Haaglanden (Monitorcode ALS)  "
      ]
     },
     "execution_count": 1,
     "metadata": {},
     "output_type": "execute_result"
    }
   ],
   "source": [
    "# Import libraries.\n",
    "import pandas as pd\n",
    "\n",
    "# Settings.\n",
    "pd.set_option('display.max_colwidth', None)\n",
    "\n",
    "# Load in data. For now this is the sample generated\n",
    "# in p2000_brandweer_create_data.r.\n",
    "scrapes = pd.read_csv(\"../data/all_sample_scrapes.csv\")\n",
    "\n",
    "# Check load correctly.\n",
    "scrapes.head()"
   ]
  },
  {
   "cell_type": "code",
   "execution_count": 2,
   "id": "ac44aeb1-8a41-427a-8675-dc5a41745d2f",
   "metadata": {},
   "outputs": [],
   "source": [
    "# Rename columns.\n",
    "scrapes.rename(columns={'X1': 'code' ,\n",
    "                        'X2': 'times',\n",
    "                        'X3': 'dates',\n",
    "                        'X4': 'sign',\n",
    "                        'X5': 'info'},\n",
    "               inplace=True)"
   ]
  },
  {
   "cell_type": "code",
   "execution_count": 3,
   "id": "62e5ea40-2727-453e-af7f-24f7b70ea83f",
   "metadata": {},
   "outputs": [
    {
     "data": {
      "text/plain": [
       "Index(['scrape_number', 'code', 'times', 'dates', 'sign', 'info'], dtype='object')"
      ]
     },
     "execution_count": 3,
     "metadata": {},
     "output_type": "execute_result"
    }
   ],
   "source": [
    "# Check it worked.\n",
    "scrapes.columns"
   ]
  },
  {
   "cell_type": "code",
   "execution_count": 4,
   "id": "7d43e4a5-d036-4635-9e4b-e6603eefdc84",
   "metadata": {},
   "outputs": [
    {
     "data": {
      "text/plain": [
       "scrape_number      0\n",
       "code             346\n",
       "times            346\n",
       "dates            346\n",
       "sign             346\n",
       "info             346\n",
       "dtype: int64"
      ]
     },
     "execution_count": 4,
     "metadata": {},
     "output_type": "execute_result"
    }
   ],
   "source": [
    "# Count missings.\n",
    "scrapes.isna().sum()"
   ]
  },
  {
   "cell_type": "code",
   "execution_count": 5,
   "id": "8294ce9d-1605-4ba5-9707-0531fbda2178",
   "metadata": {},
   "outputs": [],
   "source": [
    "# Missings are an artefact of the scrape, separating incidents.\n",
    "scrapes_nm = scrapes.dropna(inplace = False)"
   ]
  },
  {
   "cell_type": "code",
   "execution_count": 6,
   "id": "47896994-26b2-4701-b2ed-56edfefce2fd",
   "metadata": {},
   "outputs": [],
   "source": [
    "# Due to scrape frequency, there are loads of duplicates. Remove them.\n",
    "scrapes_nm_dd = scrapes_nm.drop_duplicates(subset = ['times', 'dates', 'info'],\n",
    "                                           keep = False)"
   ]
  },
  {
   "cell_type": "code",
   "execution_count": 7,
   "id": "c8869f33-bafa-4ab1-a984-c58ac75a118b",
   "metadata": {},
   "outputs": [
    {
     "name": "stdout",
     "output_type": "stream",
     "text": [
      "(654, 6) (654, 6)\n"
     ]
    }
   ],
   "source": [
    "# Check it worked. ***Re-check with full data**\n",
    "raw_dim = scrapes_nm.shape\n",
    "dd_dim  = scrapes_nm_dd.shape\n",
    "print(raw_dim, dd_dim)"
   ]
  },
  {
   "cell_type": "code",
   "execution_count": 8,
   "id": "b453ab47-48a1-403f-847e-aca824e0dbbb",
   "metadata": {},
   "outputs": [],
   "source": [
    "# Load in CAP data.\n",
    "cap = pd.read_csv(\"../data/capcodelijst_source_in_header.csv\", skiprows=1, delimiter=';')"
   ]
  },
  {
   "cell_type": "code",
   "execution_count": 9,
   "id": "b5b70870-94b5-44cf-b2c2-4e69a994c9bc",
   "metadata": {},
   "outputs": [
    {
     "data": {
      "text/html": [
       "<div>\n",
       "<style scoped>\n",
       "    .dataframe tbody tr th:only-of-type {\n",
       "        vertical-align: middle;\n",
       "    }\n",
       "\n",
       "    .dataframe tbody tr th {\n",
       "        vertical-align: top;\n",
       "    }\n",
       "\n",
       "    .dataframe thead th {\n",
       "        text-align: right;\n",
       "    }\n",
       "</style>\n",
       "<table border=\"1\" class=\"dataframe\">\n",
       "  <thead>\n",
       "    <tr style=\"text-align: right;\">\n",
       "      <th></th>\n",
       "      <th>code</th>\n",
       "      <th>cap_service</th>\n",
       "      <th>region</th>\n",
       "      <th>dorp</th>\n",
       "      <th>unit_type</th>\n",
       "      <th>extra</th>\n",
       "    </tr>\n",
       "  </thead>\n",
       "  <tbody>\n",
       "    <tr>\n",
       "      <th>0</th>\n",
       "      <td>100000</td>\n",
       "      <td>Brandweer</td>\n",
       "      <td>Amsterdam-Amstelland</td>\n",
       "      <td>NaN</td>\n",
       "      <td>Proefalarm</td>\n",
       "      <td>NaN</td>\n",
       "    </tr>\n",
       "    <tr>\n",
       "      <th>1</th>\n",
       "      <td>100001</td>\n",
       "      <td>Brandweer</td>\n",
       "      <td>Amsterdam-Amstelland</td>\n",
       "      <td>Aalsmeer</td>\n",
       "      <td>Bevelvoerders</td>\n",
       "      <td>NaN</td>\n",
       "    </tr>\n",
       "    <tr>\n",
       "      <th>2</th>\n",
       "      <td>100004</td>\n",
       "      <td>Brandweer</td>\n",
       "      <td>Amsterdam-Amstelland</td>\n",
       "      <td>Aalsmeer</td>\n",
       "      <td>Korpsalarm</td>\n",
       "      <td>NaN</td>\n",
       "    </tr>\n",
       "    <tr>\n",
       "      <th>3</th>\n",
       "      <td>100005</td>\n",
       "      <td>Brandweer</td>\n",
       "      <td>Amsterdam-Amstelland</td>\n",
       "      <td>Aalsmeer</td>\n",
       "      <td>Officier van Dienst Aalsmeer/UitHoorn</td>\n",
       "      <td>NaN</td>\n",
       "    </tr>\n",
       "    <tr>\n",
       "      <th>4</th>\n",
       "      <td>100007</td>\n",
       "      <td>Brandweer</td>\n",
       "      <td>Amsterdam-Amstelland</td>\n",
       "      <td>Aalsmeer</td>\n",
       "      <td>Chauffeurs</td>\n",
       "      <td>NaN</td>\n",
       "    </tr>\n",
       "  </tbody>\n",
       "</table>\n",
       "</div>"
      ],
      "text/plain": [
       "     code cap_service                region      dorp  \\\n",
       "0  100000   Brandweer  Amsterdam-Amstelland       NaN   \n",
       "1  100001   Brandweer  Amsterdam-Amstelland  Aalsmeer   \n",
       "2  100004   Brandweer  Amsterdam-Amstelland  Aalsmeer   \n",
       "3  100005   Brandweer  Amsterdam-Amstelland  Aalsmeer   \n",
       "4  100007   Brandweer  Amsterdam-Amstelland  Aalsmeer   \n",
       "\n",
       "                               unit_type extra  \n",
       "0                             Proefalarm   NaN  \n",
       "1                          Bevelvoerders   NaN  \n",
       "2                             Korpsalarm   NaN  \n",
       "3  Officier van Dienst Aalsmeer/UitHoorn   NaN  \n",
       "4                             Chauffeurs   NaN  "
      ]
     },
     "execution_count": 9,
     "metadata": {},
     "output_type": "execute_result"
    }
   ],
   "source": [
    "# Check contents.\n",
    "cap.head()"
   ]
  },
  {
   "cell_type": "code",
   "execution_count": 10,
   "id": "aade7478-e04a-4ea3-a950-78aac61bb306",
   "metadata": {},
   "outputs": [],
   "source": [
    "# Join by code. \n",
    "scrapes_wcodes = scrapes_nm_dd.merge(cap, on = \"code\", how = \"left\")"
   ]
  },
  {
   "cell_type": "code",
   "execution_count": null,
   "id": "c0ed5799-9ca6-4dcc-9493-b8d2dd7d77a3",
   "metadata": {},
   "outputs": [],
   "source": [
    "# Check structure now.\n",
    "scrapes_wcodes.head()"
   ]
  },
  {
   "cell_type": "code",
   "execution_count": 24,
   "id": "4b4f1ed0-98fe-4455-949b-169a215d60c0",
   "metadata": {},
   "outputs": [
    {
     "data": {
      "text/plain": [
       "56"
      ]
     },
     "execution_count": 24,
     "metadata": {},
     "output_type": "execute_result"
    }
   ],
   "source": [
    "# Count 'ambulance' occurence after making all lower.\n",
    "str(scrapes_wcodes['info']).find('Ambulance', 0, len(scrapes_wcodes['info']) )"
   ]
  },
  {
   "cell_type": "code",
   "execution_count": 26,
   "id": "cf554483-46da-42d4-b2f5-50af7f9be9da",
   "metadata": {},
   "outputs": [
    {
     "data": {
      "text/plain": [
       "info\n",
       "False    380\n",
       "True     276\n",
       "Name: count, dtype: int64"
      ]
     },
     "execution_count": 26,
     "metadata": {},
     "output_type": "execute_result"
    }
   ],
   "source": [
    "# Flag by row.\n",
    "scrapes_wcodes['info'].str.contains('Ambulance').value_counts()"
   ]
  },
  {
   "cell_type": "code",
   "execution_count": 27,
   "id": "2f9d3ce5-6f70-47ea-8d46-0e5f6b7070b2",
   "metadata": {},
   "outputs": [],
   "source": [
    "# Add flag to the data frame.\n",
    "scrapes_wcodes = scrapes_wcodes.assign(ambu_flag = scrapes_wcodes['info'].str.contains('Ambulance'))"
   ]
  },
  {
   "cell_type": "code",
   "execution_count": 28,
   "id": "eeea1001-40a8-4a79-9e03-31f0f52ebc8b",
   "metadata": {},
   "outputs": [
    {
     "data": {
      "text/plain": [
       "ambu_flag\n",
       "False    380\n",
       "True     276\n",
       "Name: count, dtype: int64"
      ]
     },
     "execution_count": 28,
     "metadata": {},
     "output_type": "execute_result"
    }
   ],
   "source": [
    "# Check it worked.\n",
    "scrapes_wcodes['ambu_flag'].value_counts()"
   ]
  },
  {
   "cell_type": "code",
   "execution_count": 31,
   "id": "5ad956ed-f585-4e68-96e3-26dc0fbddddf",
   "metadata": {},
   "outputs": [
    {
     "data": {
      "text/html": [
       "<div>\n",
       "<style scoped>\n",
       "    .dataframe tbody tr th:only-of-type {\n",
       "        vertical-align: middle;\n",
       "    }\n",
       "\n",
       "    .dataframe tbody tr th {\n",
       "        vertical-align: top;\n",
       "    }\n",
       "\n",
       "    .dataframe thead th {\n",
       "        text-align: right;\n",
       "    }\n",
       "</style>\n",
       "<table border=\"1\" class=\"dataframe\">\n",
       "  <thead>\n",
       "    <tr style=\"text-align: right;\">\n",
       "      <th>ambu_flag</th>\n",
       "      <th>False</th>\n",
       "      <th>True</th>\n",
       "    </tr>\n",
       "    <tr>\n",
       "      <th>cap_service</th>\n",
       "      <th></th>\n",
       "      <th></th>\n",
       "    </tr>\n",
       "  </thead>\n",
       "  <tbody>\n",
       "    <tr>\n",
       "      <th>Ambulance</th>\n",
       "      <td>73</td>\n",
       "      <td>186</td>\n",
       "    </tr>\n",
       "    <tr>\n",
       "      <th>Brandweer</th>\n",
       "      <td>121</td>\n",
       "      <td>1</td>\n",
       "    </tr>\n",
       "    <tr>\n",
       "      <th>KNRM</th>\n",
       "      <td>1</td>\n",
       "      <td>0</td>\n",
       "    </tr>\n",
       "    <tr>\n",
       "      <th>Politie</th>\n",
       "      <td>22</td>\n",
       "      <td>0</td>\n",
       "    </tr>\n",
       "  </tbody>\n",
       "</table>\n",
       "</div>"
      ],
      "text/plain": [
       "ambu_flag    False  True \n",
       "cap_service              \n",
       "Ambulance       73    186\n",
       "Brandweer      121      1\n",
       "KNRM             1      0\n",
       "Politie         22      0"
      ]
     },
     "execution_count": 31,
     "metadata": {},
     "output_type": "execute_result"
    }
   ],
   "source": [
    "# Crosstab to check agreement.\n",
    "pd.crosstab(index = scrapes_wcodes.cap_service, columns = scrapes_wcodes.ambu_flag)"
   ]
  },
  {
   "cell_type": "code",
   "execution_count": 59,
   "id": "a23028a6-ba89-44a5-8cd8-78446ce7e9f3",
   "metadata": {},
   "outputs": [],
   "source": [
    "# Create conditions for when there is disagreement.\n",
    "con1 = scrapes_wcodes['cap_service'] == \"Ambulance\"\n",
    "con2 = scrapes_wcodes['ambu_flag'] == True\n",
    "\n"
   ]
  },
  {
   "cell_type": "code",
   "execution_count": null,
   "id": "60816421-570f-489d-b6ad-d8fbec7e3698",
   "metadata": {},
   "outputs": [],
   "source": []
  }
 ],
 "metadata": {
  "kernelspec": {
   "display_name": "Python 3 (ipykernel)",
   "language": "python",
   "name": "python3"
  },
  "language_info": {
   "codemirror_mode": {
    "name": "ipython",
    "version": 3
   },
   "file_extension": ".py",
   "mimetype": "text/x-python",
   "name": "python",
   "nbconvert_exporter": "python",
   "pygments_lexer": "ipython3",
   "version": "3.12.3"
  }
 },
 "nbformat": 4,
 "nbformat_minor": 5
}
