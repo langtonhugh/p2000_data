{
 "cells": [
  {
   "cell_type": "code",
   "execution_count": 1,
   "id": "e03f07c9-3fcc-4379-bd16-f8fb7f5e7532",
   "metadata": {
    "scrolled": true
   },
   "outputs": [],
   "source": [
    "# Import libraries.\n",
    "import pandas as pd\n",
    "import matplotlib.pyplot as plt\n",
    "\n",
    "# Settings.\n",
    "pd.set_option('display.max_colwidth', None)\n",
    "\n",
    "# Load in data. For now this is the sample generated\n",
    "# in p2000_brandweer_create_data.r.\n",
    "scrapes = pd.read_csv(\"../data/all_sample_scrapes.csv\")\n",
    "\n",
    "# Check load correctly.\n",
    "#scrapes.head()"
   ]
  },
  {
   "cell_type": "code",
   "execution_count": 2,
   "id": "ac44aeb1-8a41-427a-8675-dc5a41745d2f",
   "metadata": {},
   "outputs": [],
   "source": [
    "# Rename columns.\n",
    "scrapes.rename(columns={'X1': 'code' ,\n",
    "                        'X2': 'times',\n",
    "                        'X3': 'dates',\n",
    "                        'X4': 'sign',\n",
    "                        'X5': 'info'},\n",
    "               inplace=True)"
   ]
  },
  {
   "cell_type": "code",
   "execution_count": 3,
   "id": "62e5ea40-2727-453e-af7f-24f7b70ea83f",
   "metadata": {},
   "outputs": [
    {
     "data": {
      "text/plain": [
       "Index(['scrape_number', 'code', 'times', 'dates', 'sign', 'info'], dtype='object')"
      ]
     },
     "execution_count": 3,
     "metadata": {},
     "output_type": "execute_result"
    }
   ],
   "source": [
    "# Check it worked.\n",
    "scrapes.columns"
   ]
  },
  {
   "cell_type": "code",
   "execution_count": 4,
   "id": "7d43e4a5-d036-4635-9e4b-e6603eefdc84",
   "metadata": {},
   "outputs": [
    {
     "data": {
      "text/plain": [
       "scrape_number      0\n",
       "code             346\n",
       "times            346\n",
       "dates            346\n",
       "sign             346\n",
       "info             346\n",
       "dtype: int64"
      ]
     },
     "execution_count": 4,
     "metadata": {},
     "output_type": "execute_result"
    }
   ],
   "source": [
    "# Count missings.\n",
    "scrapes.isna().sum()"
   ]
  },
  {
   "cell_type": "code",
   "execution_count": 5,
   "id": "8294ce9d-1605-4ba5-9707-0531fbda2178",
   "metadata": {},
   "outputs": [],
   "source": [
    "# Missings are an artefact of the scrape, separating incidents.\n",
    "scrapes_nm = scrapes.dropna(inplace = False)"
   ]
  },
  {
   "cell_type": "code",
   "execution_count": 6,
   "id": "47896994-26b2-4701-b2ed-56edfefce2fd",
   "metadata": {},
   "outputs": [],
   "source": [
    "# Due to scrape frequency, there are loads of duplicates. Remove them.\n",
    "scrapes_nm_dd = scrapes_nm.drop_duplicates(subset = ['times', 'dates', 'info'],\n",
    "                                           keep = False)"
   ]
  },
  {
   "cell_type": "code",
   "execution_count": 7,
   "id": "c8869f33-bafa-4ab1-a984-c58ac75a118b",
   "metadata": {},
   "outputs": [
    {
     "name": "stdout",
     "output_type": "stream",
     "text": [
      "(654, 6) (654, 6)\n"
     ]
    }
   ],
   "source": [
    "# Check it worked as expected.\n",
    "raw_dim = scrapes_nm.shape\n",
    "dd_dim  = scrapes_nm_dd.shape\n",
    "print(raw_dim, dd_dim)"
   ]
  },
  {
   "cell_type": "code",
   "execution_count": 8,
   "id": "b453ab47-48a1-403f-847e-aca824e0dbbb",
   "metadata": {},
   "outputs": [],
   "source": [
    "# Load in CAP data.\n",
    "cap = pd.read_csv(\"../data/capcodelijst_source_in_header.csv\", skiprows=1, delimiter=';')"
   ]
  },
  {
   "cell_type": "code",
   "execution_count": 9,
   "id": "b5b70870-94b5-44cf-b2c2-4e69a994c9bc",
   "metadata": {},
   "outputs": [
    {
     "data": {
      "text/html": [
       "<div>\n",
       "<style scoped>\n",
       "    .dataframe tbody tr th:only-of-type {\n",
       "        vertical-align: middle;\n",
       "    }\n",
       "\n",
       "    .dataframe tbody tr th {\n",
       "        vertical-align: top;\n",
       "    }\n",
       "\n",
       "    .dataframe thead th {\n",
       "        text-align: right;\n",
       "    }\n",
       "</style>\n",
       "<table border=\"1\" class=\"dataframe\">\n",
       "  <thead>\n",
       "    <tr style=\"text-align: right;\">\n",
       "      <th></th>\n",
       "      <th>code</th>\n",
       "      <th>cap_service</th>\n",
       "      <th>region</th>\n",
       "      <th>dorp</th>\n",
       "      <th>unit_type</th>\n",
       "      <th>extra</th>\n",
       "    </tr>\n",
       "  </thead>\n",
       "  <tbody>\n",
       "    <tr>\n",
       "      <th>0</th>\n",
       "      <td>100000</td>\n",
       "      <td>Brandweer</td>\n",
       "      <td>Amsterdam-Amstelland</td>\n",
       "      <td>NaN</td>\n",
       "      <td>Proefalarm</td>\n",
       "      <td>NaN</td>\n",
       "    </tr>\n",
       "    <tr>\n",
       "      <th>1</th>\n",
       "      <td>100001</td>\n",
       "      <td>Brandweer</td>\n",
       "      <td>Amsterdam-Amstelland</td>\n",
       "      <td>Aalsmeer</td>\n",
       "      <td>Bevelvoerders</td>\n",
       "      <td>NaN</td>\n",
       "    </tr>\n",
       "    <tr>\n",
       "      <th>2</th>\n",
       "      <td>100004</td>\n",
       "      <td>Brandweer</td>\n",
       "      <td>Amsterdam-Amstelland</td>\n",
       "      <td>Aalsmeer</td>\n",
       "      <td>Korpsalarm</td>\n",
       "      <td>NaN</td>\n",
       "    </tr>\n",
       "    <tr>\n",
       "      <th>3</th>\n",
       "      <td>100005</td>\n",
       "      <td>Brandweer</td>\n",
       "      <td>Amsterdam-Amstelland</td>\n",
       "      <td>Aalsmeer</td>\n",
       "      <td>Officier van Dienst Aalsmeer/UitHoorn</td>\n",
       "      <td>NaN</td>\n",
       "    </tr>\n",
       "    <tr>\n",
       "      <th>4</th>\n",
       "      <td>100007</td>\n",
       "      <td>Brandweer</td>\n",
       "      <td>Amsterdam-Amstelland</td>\n",
       "      <td>Aalsmeer</td>\n",
       "      <td>Chauffeurs</td>\n",
       "      <td>NaN</td>\n",
       "    </tr>\n",
       "  </tbody>\n",
       "</table>\n",
       "</div>"
      ],
      "text/plain": [
       "     code cap_service                region      dorp  \\\n",
       "0  100000   Brandweer  Amsterdam-Amstelland       NaN   \n",
       "1  100001   Brandweer  Amsterdam-Amstelland  Aalsmeer   \n",
       "2  100004   Brandweer  Amsterdam-Amstelland  Aalsmeer   \n",
       "3  100005   Brandweer  Amsterdam-Amstelland  Aalsmeer   \n",
       "4  100007   Brandweer  Amsterdam-Amstelland  Aalsmeer   \n",
       "\n",
       "                               unit_type extra  \n",
       "0                             Proefalarm   NaN  \n",
       "1                          Bevelvoerders   NaN  \n",
       "2                             Korpsalarm   NaN  \n",
       "3  Officier van Dienst Aalsmeer/UitHoorn   NaN  \n",
       "4                             Chauffeurs   NaN  "
      ]
     },
     "execution_count": 9,
     "metadata": {},
     "output_type": "execute_result"
    }
   ],
   "source": [
    "# Check contents.\n",
    "cap.head()"
   ]
  },
  {
   "cell_type": "code",
   "execution_count": 10,
   "id": "aade7478-e04a-4ea3-a950-78aac61bb306",
   "metadata": {},
   "outputs": [],
   "source": [
    "# Join by code. \n",
    "scrapes_wcodes = scrapes_nm_dd.merge(cap, on = \"code\", how = \"left\")"
   ]
  },
  {
   "cell_type": "code",
   "execution_count": 11,
   "id": "c0ed5799-9ca6-4dcc-9493-b8d2dd7d77a3",
   "metadata": {},
   "outputs": [
    {
     "data": {
      "text/html": [
       "<div>\n",
       "<style scoped>\n",
       "    .dataframe tbody tr th:only-of-type {\n",
       "        vertical-align: middle;\n",
       "    }\n",
       "\n",
       "    .dataframe tbody tr th {\n",
       "        vertical-align: top;\n",
       "    }\n",
       "\n",
       "    .dataframe thead th {\n",
       "        text-align: right;\n",
       "    }\n",
       "</style>\n",
       "<table border=\"1\" class=\"dataframe\">\n",
       "  <thead>\n",
       "    <tr style=\"text-align: right;\">\n",
       "      <th></th>\n",
       "      <th>scrape_number</th>\n",
       "      <th>code</th>\n",
       "      <th>times</th>\n",
       "      <th>dates</th>\n",
       "      <th>sign</th>\n",
       "      <th>info</th>\n",
       "      <th>cap_service</th>\n",
       "      <th>region</th>\n",
       "      <th>dorp</th>\n",
       "      <th>unit_type</th>\n",
       "      <th>extra</th>\n",
       "    </tr>\n",
       "  </thead>\n",
       "  <tbody>\n",
       "    <tr>\n",
       "      <th>0</th>\n",
       "      <td>2573</td>\n",
       "      <td>126158.0</td>\n",
       "      <td>22:34:30</td>\n",
       "      <td>17-02-23</td>\n",
       "      <td>GROUP</td>\n",
       "      <td>A1 12158 Rit 23268 Adriaan Morrienpad Driehuis NHAmbulance Kennemerland (Ambulance 12-158 Witte Kruis)</td>\n",
       "      <td>Ambulance</td>\n",
       "      <td>Kennemerland</td>\n",
       "      <td>NaN</td>\n",
       "      <td>Ambulance 12-158 (Post Heemskerk/Velsen)</td>\n",
       "      <td>NaN</td>\n",
       "    </tr>\n",
       "    <tr>\n",
       "      <th>1</th>\n",
       "      <td>33315</td>\n",
       "      <td>1420054.0</td>\n",
       "      <td>23:50:19</td>\n",
       "      <td>24-04-22</td>\n",
       "      <td>GROUP</td>\n",
       "      <td>A1 AMBU 17154 1e Opbouwstraat 3076PR Rotterdam ROTTDM bon 60012CPA Rijnmond AZRR Ambulance 17-154</td>\n",
       "      <td>Ambulance</td>\n",
       "      <td>Rotterdam-Rijnmond</td>\n",
       "      <td>NaN</td>\n",
       "      <td>17-154</td>\n",
       "      <td>NaN</td>\n",
       "    </tr>\n",
       "    <tr>\n",
       "      <th>2</th>\n",
       "      <td>24735</td>\n",
       "      <td>1520999.0</td>\n",
       "      <td>05:05:00</td>\n",
       "      <td>26-05-23</td>\n",
       "      <td>GROUP</td>\n",
       "      <td>A1 Robertaland SGRAVH : 15118MKA Haaglanden (Monitorcode ALS)</td>\n",
       "      <td>NaN</td>\n",
       "      <td>NaN</td>\n",
       "      <td>NaN</td>\n",
       "      <td>NaN</td>\n",
       "      <td>NaN</td>\n",
       "    </tr>\n",
       "    <tr>\n",
       "      <th>3</th>\n",
       "      <td>25955</td>\n",
       "      <td>1523816.0</td>\n",
       "      <td>04:09:55</td>\n",
       "      <td>10-06-23</td>\n",
       "      <td>GROUP</td>\n",
       "      <td>Gaarne contact MKAMKA Hollands Midden (BOT Oost)</td>\n",
       "      <td>NaN</td>\n",
       "      <td>NaN</td>\n",
       "      <td>NaN</td>\n",
       "      <td>NaN</td>\n",
       "      <td>NaN</td>\n",
       "    </tr>\n",
       "    <tr>\n",
       "      <th>4</th>\n",
       "      <td>34489</td>\n",
       "      <td>108999.0</td>\n",
       "      <td>13:54:23</td>\n",
       "      <td>22-07-23</td>\n",
       "      <td>GROUP</td>\n",
       "      <td>P 2 BNH-01 BR buiten Molenvaart Anna Paulowna 105032Monitorcode Brandweer Kennemerland</td>\n",
       "      <td>Brandweer</td>\n",
       "      <td>Kennemerland</td>\n",
       "      <td>NaN</td>\n",
       "      <td>Monitorcode</td>\n",
       "      <td>NaN</td>\n",
       "    </tr>\n",
       "  </tbody>\n",
       "</table>\n",
       "</div>"
      ],
      "text/plain": [
       "   scrape_number       code     times     dates   sign  \\\n",
       "0           2573   126158.0  22:34:30  17-02-23  GROUP   \n",
       "1          33315  1420054.0  23:50:19  24-04-22  GROUP   \n",
       "2          24735  1520999.0  05:05:00  26-05-23  GROUP   \n",
       "3          25955  1523816.0  04:09:55  10-06-23  GROUP   \n",
       "4          34489   108999.0  13:54:23  22-07-23  GROUP   \n",
       "\n",
       "                                                                                                     info  \\\n",
       "0  A1 12158 Rit 23268 Adriaan Morrienpad Driehuis NHAmbulance Kennemerland (Ambulance 12-158 Witte Kruis)   \n",
       "1       A1 AMBU 17154 1e Opbouwstraat 3076PR Rotterdam ROTTDM bon 60012CPA Rijnmond AZRR Ambulance 17-154   \n",
       "2                                           A1 Robertaland SGRAVH : 15118MKA Haaglanden (Monitorcode ALS)   \n",
       "3                                                        Gaarne contact MKAMKA Hollands Midden (BOT Oost)   \n",
       "4                  P 2 BNH-01 BR buiten Molenvaart Anna Paulowna 105032Monitorcode Brandweer Kennemerland   \n",
       "\n",
       "  cap_service              region dorp  \\\n",
       "0   Ambulance        Kennemerland  NaN   \n",
       "1   Ambulance  Rotterdam-Rijnmond  NaN   \n",
       "2         NaN                 NaN  NaN   \n",
       "3         NaN                 NaN  NaN   \n",
       "4   Brandweer        Kennemerland  NaN   \n",
       "\n",
       "                                  unit_type extra  \n",
       "0  Ambulance 12-158 (Post Heemskerk/Velsen)   NaN  \n",
       "1                                    17-154   NaN  \n",
       "2                                       NaN   NaN  \n",
       "3                                       NaN   NaN  \n",
       "4                               Monitorcode   NaN  "
      ]
     },
     "execution_count": 11,
     "metadata": {},
     "output_type": "execute_result"
    }
   ],
   "source": [
    "# Check structure now.\n",
    "scrapes_wcodes.head()"
   ]
  },
  {
   "cell_type": "code",
   "execution_count": 12,
   "id": "cf554483-46da-42d4-b2f5-50af7f9be9da",
   "metadata": {},
   "outputs": [
    {
     "data": {
      "text/plain": [
       "info\n",
       "False    361\n",
       "True     295\n",
       "Name: count, dtype: int64"
      ]
     },
     "execution_count": 12,
     "metadata": {},
     "output_type": "execute_result"
    }
   ],
   "source": [
    "# Flag occurences to ambulance or AMBU (we know these are commonly used).\n",
    "scrapes_wcodes['info'].str.contains('Ambulance|AMBU').value_counts()"
   ]
  },
  {
   "cell_type": "code",
   "execution_count": 13,
   "id": "2f9d3ce5-6f70-47ea-8d46-0e5f6b7070b2",
   "metadata": {},
   "outputs": [],
   "source": [
    "# Add flag to the data frame.\n",
    "scrapes_wcodes = scrapes_wcodes.assign(ambu_flag = scrapes_wcodes['info'].str.contains('Ambulance|AMBU'))"
   ]
  },
  {
   "cell_type": "code",
   "execution_count": 14,
   "id": "eeea1001-40a8-4a79-9e03-31f0f52ebc8b",
   "metadata": {},
   "outputs": [
    {
     "data": {
      "text/plain": [
       "ambu_flag\n",
       "False    361\n",
       "True     295\n",
       "Name: count, dtype: int64"
      ]
     },
     "execution_count": 14,
     "metadata": {},
     "output_type": "execute_result"
    }
   ],
   "source": [
    "# Check it worked.\n",
    "scrapes_wcodes['ambu_flag'].value_counts()"
   ]
  },
  {
   "cell_type": "code",
   "execution_count": 15,
   "id": "5ad956ed-f585-4e68-96e3-26dc0fbddddf",
   "metadata": {},
   "outputs": [
    {
     "data": {
      "text/html": [
       "<div>\n",
       "<style scoped>\n",
       "    .dataframe tbody tr th:only-of-type {\n",
       "        vertical-align: middle;\n",
       "    }\n",
       "\n",
       "    .dataframe tbody tr th {\n",
       "        vertical-align: top;\n",
       "    }\n",
       "\n",
       "    .dataframe thead th {\n",
       "        text-align: right;\n",
       "    }\n",
       "</style>\n",
       "<table border=\"1\" class=\"dataframe\">\n",
       "  <thead>\n",
       "    <tr style=\"text-align: right;\">\n",
       "      <th>ambu_flag</th>\n",
       "      <th>False</th>\n",
       "      <th>True</th>\n",
       "    </tr>\n",
       "    <tr>\n",
       "      <th>cap_service</th>\n",
       "      <th></th>\n",
       "      <th></th>\n",
       "    </tr>\n",
       "  </thead>\n",
       "  <tbody>\n",
       "    <tr>\n",
       "      <th>Ambulance</th>\n",
       "      <td>63</td>\n",
       "      <td>196</td>\n",
       "    </tr>\n",
       "    <tr>\n",
       "      <th>Brandweer</th>\n",
       "      <td>120</td>\n",
       "      <td>2</td>\n",
       "    </tr>\n",
       "    <tr>\n",
       "      <th>KNRM</th>\n",
       "      <td>1</td>\n",
       "      <td>0</td>\n",
       "    </tr>\n",
       "    <tr>\n",
       "      <th>Politie</th>\n",
       "      <td>22</td>\n",
       "      <td>0</td>\n",
       "    </tr>\n",
       "  </tbody>\n",
       "</table>\n",
       "</div>"
      ],
      "text/plain": [
       "ambu_flag    False  True \n",
       "cap_service              \n",
       "Ambulance       63    196\n",
       "Brandweer      120      2\n",
       "KNRM             1      0\n",
       "Politie         22      0"
      ]
     },
     "execution_count": 15,
     "metadata": {},
     "output_type": "execute_result"
    }
   ],
   "source": [
    "# Compare the existing CAP flag with the character string filter.\n",
    "pd.crosstab(index = scrapes_wcodes.cap_service, columns = scrapes_wcodes.ambu_flag)"
   ]
  },
  {
   "cell_type": "markdown",
   "id": "25842ff5-5956-4cf2-8706-c4933cb0dabf",
   "metadata": {},
   "source": [
    "The above demonstrates that the flag works nicely for KNRM and Politie, and almost always for Brandweer. Manualy inspection of those Brandweer 'True' flags indicates that maybe the CAP codes really does miss them, for some reason, because the info string definitely states AMBU or Ambulance."
   ]
  },
  {
   "cell_type": "code",
   "execution_count": 16,
   "id": "a23028a6-ba89-44a5-8cd8-78446ce7e9f3",
   "metadata": {},
   "outputs": [],
   "source": [
    "disgaree = scrapes_wcodes[(scrapes_wcodes['cap_service'] == \"Ambulance\") &\n",
    "                          (scrapes_wcodes['ambu_flag'] == False) ]"
   ]
  },
  {
   "cell_type": "code",
   "execution_count": 17,
   "id": "60816421-570f-489d-b6ad-d8fbec7e3698",
   "metadata": {},
   "outputs": [
    {
     "data": {
      "text/html": [
       "<div>\n",
       "<style scoped>\n",
       "    .dataframe tbody tr th:only-of-type {\n",
       "        vertical-align: middle;\n",
       "    }\n",
       "\n",
       "    .dataframe tbody tr th {\n",
       "        vertical-align: top;\n",
       "    }\n",
       "\n",
       "    .dataframe thead th {\n",
       "        text-align: right;\n",
       "    }\n",
       "</style>\n",
       "<table border=\"1\" class=\"dataframe\">\n",
       "  <thead>\n",
       "    <tr style=\"text-align: right;\">\n",
       "      <th></th>\n",
       "      <th>scrape_number</th>\n",
       "      <th>code</th>\n",
       "      <th>times</th>\n",
       "      <th>dates</th>\n",
       "      <th>sign</th>\n",
       "      <th>info</th>\n",
       "      <th>cap_service</th>\n",
       "      <th>region</th>\n",
       "      <th>dorp</th>\n",
       "      <th>unit_type</th>\n",
       "      <th>extra</th>\n",
       "      <th>ambu_flag</th>\n",
       "    </tr>\n",
       "  </thead>\n",
       "  <tbody>\n",
       "    <tr>\n",
       "      <th>52</th>\n",
       "      <td>13336</td>\n",
       "      <td>120999.0</td>\n",
       "      <td>04:12:41</td>\n",
       "      <td>08-04-23</td>\n",
       "      <td>GROUP</td>\n",
       "      <td>B1 13119 Nieuwezijds Voorburgwal 1012 Amsterdam 31817MKA Amsterdam en Omstreken (Lichtkrant)</td>\n",
       "      <td>Ambulance</td>\n",
       "      <td>Amsterdam-Amstelland</td>\n",
       "      <td>Amsterdam</td>\n",
       "      <td>Lichtkrant</td>\n",
       "      <td>NaN</td>\n",
       "      <td>False</td>\n",
       "    </tr>\n",
       "    <tr>\n",
       "      <th>53</th>\n",
       "      <td>9287</td>\n",
       "      <td>1220499.0</td>\n",
       "      <td>10:26:59</td>\n",
       "      <td>23-07-22</td>\n",
       "      <td>GROUP</td>\n",
       "      <td>A2 Riel rit: 99487 (Directe inzet: ja)CPA Midden en West Brabant (Lichtkrant)</td>\n",
       "      <td>Ambulance</td>\n",
       "      <td>Midden- en West-Brabant</td>\n",
       "      <td>NaN</td>\n",
       "      <td>Monitorcode</td>\n",
       "      <td>NaN</td>\n",
       "      <td>False</td>\n",
       "    </tr>\n",
       "    <tr>\n",
       "      <th>58</th>\n",
       "      <td>22996</td>\n",
       "      <td>1220499.0</td>\n",
       "      <td>10:17:31</td>\n",
       "      <td>18-05-23</td>\n",
       "      <td>GROUP</td>\n",
       "      <td>A1 Oosterhout NB rit: 67849CPA Midden en West Brabant (Lichtkrant)</td>\n",
       "      <td>Ambulance</td>\n",
       "      <td>Midden- en West-Brabant</td>\n",
       "      <td>NaN</td>\n",
       "      <td>Monitorcode</td>\n",
       "      <td>NaN</td>\n",
       "      <td>False</td>\n",
       "    </tr>\n",
       "    <tr>\n",
       "      <th>113</th>\n",
       "      <td>25369</td>\n",
       "      <td>1020178.0</td>\n",
       "      <td>01:17:48</td>\n",
       "      <td>28-03-22</td>\n",
       "      <td>ALPHA</td>\n",
       "      <td>Heli inzet A1 St. Odastraat Melderslo 27079CPA LimburgNoord (OvD-G Noord)</td>\n",
       "      <td>Ambulance</td>\n",
       "      <td>Limburg Noord</td>\n",
       "      <td>NaN</td>\n",
       "      <td>OvD-G Noord</td>\n",
       "      <td>NaN</td>\n",
       "      <td>False</td>\n",
       "    </tr>\n",
       "    <tr>\n",
       "      <th>114</th>\n",
       "      <td>25369</td>\n",
       "      <td>1020178.0</td>\n",
       "      <td>01:17:48</td>\n",
       "      <td>28-03-22</td>\n",
       "      <td>ALPHA</td>\n",
       "      <td>Heli inzet A1 St. Odastraat Melderslo 27079CPA LimburgNoord (OvD-G Noord)</td>\n",
       "      <td>Ambulance</td>\n",
       "      <td>Limburg Noord</td>\n",
       "      <td>NaN</td>\n",
       "      <td>OvD-G Noord</td>\n",
       "      <td>NaN</td>\n",
       "      <td>False</td>\n",
       "    </tr>\n",
       "  </tbody>\n",
       "</table>\n",
       "</div>"
      ],
      "text/plain": [
       "     scrape_number       code     times     dates   sign  \\\n",
       "52           13336   120999.0  04:12:41  08-04-23  GROUP   \n",
       "53            9287  1220499.0  10:26:59  23-07-22  GROUP   \n",
       "58           22996  1220499.0  10:17:31  18-05-23  GROUP   \n",
       "113          25369  1020178.0  01:17:48  28-03-22  ALPHA   \n",
       "114          25369  1020178.0  01:17:48  28-03-22  ALPHA   \n",
       "\n",
       "                                                                                             info  \\\n",
       "52   B1 13119 Nieuwezijds Voorburgwal 1012 Amsterdam 31817MKA Amsterdam en Omstreken (Lichtkrant)   \n",
       "53                  A2 Riel rit: 99487 (Directe inzet: ja)CPA Midden en West Brabant (Lichtkrant)   \n",
       "58                             A1 Oosterhout NB rit: 67849CPA Midden en West Brabant (Lichtkrant)   \n",
       "113                     Heli inzet A1 St. Odastraat Melderslo 27079CPA LimburgNoord (OvD-G Noord)   \n",
       "114                     Heli inzet A1 St. Odastraat Melderslo 27079CPA LimburgNoord (OvD-G Noord)   \n",
       "\n",
       "    cap_service                   region       dorp     unit_type extra  \\\n",
       "52    Ambulance     Amsterdam-Amstelland  Amsterdam    Lichtkrant   NaN   \n",
       "53    Ambulance  Midden- en West-Brabant        NaN  Monitorcode    NaN   \n",
       "58    Ambulance  Midden- en West-Brabant        NaN  Monitorcode    NaN   \n",
       "113   Ambulance            Limburg Noord        NaN   OvD-G Noord   NaN   \n",
       "114   Ambulance            Limburg Noord        NaN   OvD-G Noord   NaN   \n",
       "\n",
       "     ambu_flag  \n",
       "52       False  \n",
       "53       False  \n",
       "58       False  \n",
       "113      False  \n",
       "114      False  "
      ]
     },
     "execution_count": 17,
     "metadata": {},
     "output_type": "execute_result"
    }
   ],
   "source": [
    "# Inspect manually.\n",
    "disgaree.head()"
   ]
  },
  {
   "cell_type": "markdown",
   "id": "d2305bc5-7d0b-4ea2-9301-acffb0df92ae",
   "metadata": {},
   "source": [
    "For now, we decide to create a hybrid flag: if it's identified via the character string, or the CAP code, it's an ambulance! Feel free to explore this more or try something different."
   ]
  },
  {
   "cell_type": "code",
   "execution_count": 18,
   "id": "77c7f741-2b68-41fd-a6c3-8fc996435813",
   "metadata": {},
   "outputs": [],
   "source": [
    "scrapes_wcodes = scrapes_wcodes.assign(hyb_ambu_flag = (scrapes_wcodes['cap_service'] == \"Ambulance\")  | (scrapes_wcodes['ambu_flag'] == True))"
   ]
  },
  {
   "cell_type": "code",
   "execution_count": 19,
   "id": "7b08a862-16ca-460d-a829-3f802528f565",
   "metadata": {},
   "outputs": [
    {
     "data": {
      "text/html": [
       "<div>\n",
       "<style scoped>\n",
       "    .dataframe tbody tr th:only-of-type {\n",
       "        vertical-align: middle;\n",
       "    }\n",
       "\n",
       "    .dataframe tbody tr th {\n",
       "        vertical-align: top;\n",
       "    }\n",
       "\n",
       "    .dataframe thead th {\n",
       "        text-align: right;\n",
       "    }\n",
       "</style>\n",
       "<table border=\"1\" class=\"dataframe\">\n",
       "  <thead>\n",
       "    <tr style=\"text-align: right;\">\n",
       "      <th>cap_service</th>\n",
       "      <th>Ambulance</th>\n",
       "      <th>Brandweer</th>\n",
       "      <th>KNRM</th>\n",
       "      <th>Politie</th>\n",
       "    </tr>\n",
       "    <tr>\n",
       "      <th>hyb_ambu_flag</th>\n",
       "      <th></th>\n",
       "      <th></th>\n",
       "      <th></th>\n",
       "      <th></th>\n",
       "    </tr>\n",
       "  </thead>\n",
       "  <tbody>\n",
       "    <tr>\n",
       "      <th>False</th>\n",
       "      <td>0</td>\n",
       "      <td>120</td>\n",
       "      <td>1</td>\n",
       "      <td>22</td>\n",
       "    </tr>\n",
       "    <tr>\n",
       "      <th>True</th>\n",
       "      <td>259</td>\n",
       "      <td>2</td>\n",
       "      <td>0</td>\n",
       "      <td>0</td>\n",
       "    </tr>\n",
       "  </tbody>\n",
       "</table>\n",
       "</div>"
      ],
      "text/plain": [
       "cap_service    Ambulance  Brandweer  KNRM  Politie\n",
       "hyb_ambu_flag                                     \n",
       "False                  0        120     1       22\n",
       "True                 259          2     0        0"
      ]
     },
     "execution_count": 19,
     "metadata": {},
     "output_type": "execute_result"
    }
   ],
   "source": [
    "# Check that it worked as expected.\n",
    "pd.crosstab(index = scrapes_wcodes.hyb_ambu_flag, columns = scrapes_wcodes.cap_service)"
   ]
  },
  {
   "cell_type": "code",
   "execution_count": 20,
   "id": "af1e086d-d553-4301-b644-ab13778c6e59",
   "metadata": {},
   "outputs": [],
   "source": [
    "# Now we make the filter for ambulance-only.\n",
    "ambu_only = scrapes_wcodes[scrapes_wcodes.hyb_ambu_flag == True]"
   ]
  },
  {
   "cell_type": "code",
   "execution_count": 21,
   "id": "d88aea0d-a9cd-4b21-aa24-c190662d7923",
   "metadata": {
    "scrolled": true
   },
   "outputs": [
    {
     "data": {
      "text/html": [
       "<div>\n",
       "<style scoped>\n",
       "    .dataframe tbody tr th:only-of-type {\n",
       "        vertical-align: middle;\n",
       "    }\n",
       "\n",
       "    .dataframe tbody tr th {\n",
       "        vertical-align: top;\n",
       "    }\n",
       "\n",
       "    .dataframe thead th {\n",
       "        text-align: right;\n",
       "    }\n",
       "</style>\n",
       "<table border=\"1\" class=\"dataframe\">\n",
       "  <thead>\n",
       "    <tr style=\"text-align: right;\">\n",
       "      <th></th>\n",
       "      <th>scrape_number</th>\n",
       "      <th>code</th>\n",
       "      <th>times</th>\n",
       "      <th>dates</th>\n",
       "      <th>sign</th>\n",
       "      <th>info</th>\n",
       "      <th>cap_service</th>\n",
       "      <th>region</th>\n",
       "      <th>dorp</th>\n",
       "      <th>unit_type</th>\n",
       "      <th>extra</th>\n",
       "      <th>ambu_flag</th>\n",
       "      <th>hyb_ambu_flag</th>\n",
       "    </tr>\n",
       "  </thead>\n",
       "  <tbody>\n",
       "    <tr>\n",
       "      <th>0</th>\n",
       "      <td>2573</td>\n",
       "      <td>126158.0</td>\n",
       "      <td>22:34:30</td>\n",
       "      <td>17-02-23</td>\n",
       "      <td>GROUP</td>\n",
       "      <td>A1 12158 Rit 23268 Adriaan Morrienpad Driehuis NHAmbulance Kennemerland (Ambulance 12-158 Witte Kruis)</td>\n",
       "      <td>Ambulance</td>\n",
       "      <td>Kennemerland</td>\n",
       "      <td>NaN</td>\n",
       "      <td>Ambulance 12-158 (Post Heemskerk/Velsen)</td>\n",
       "      <td>NaN</td>\n",
       "      <td>True</td>\n",
       "      <td>True</td>\n",
       "    </tr>\n",
       "    <tr>\n",
       "      <th>1</th>\n",
       "      <td>33315</td>\n",
       "      <td>1420054.0</td>\n",
       "      <td>23:50:19</td>\n",
       "      <td>24-04-22</td>\n",
       "      <td>GROUP</td>\n",
       "      <td>A1 AMBU 17154 1e Opbouwstraat 3076PR Rotterdam ROTTDM bon 60012CPA Rijnmond AZRR Ambulance 17-154</td>\n",
       "      <td>Ambulance</td>\n",
       "      <td>Rotterdam-Rijnmond</td>\n",
       "      <td>NaN</td>\n",
       "      <td>17-154</td>\n",
       "      <td>NaN</td>\n",
       "      <td>True</td>\n",
       "      <td>True</td>\n",
       "    </tr>\n",
       "    <tr>\n",
       "      <th>7</th>\n",
       "      <td>32899</td>\n",
       "      <td>1420046.0</td>\n",
       "      <td>09:14:57</td>\n",
       "      <td>12-07-23</td>\n",
       "      <td>GROUP</td>\n",
       "      <td>A2 (DIA: ja) AMBU 17146 Lieve Verschuierstraat 3021ZA Rotterdam ROTTDM bon 98180CPA Rijnmond AZRR Ambulance 17-146</td>\n",
       "      <td>Ambulance</td>\n",
       "      <td>Rotterdam-Rijnmond</td>\n",
       "      <td>VRR - AZRR</td>\n",
       "      <td>Ambulance 17-146</td>\n",
       "      <td>NaN</td>\n",
       "      <td>True</td>\n",
       "      <td>True</td>\n",
       "    </tr>\n",
       "    <tr>\n",
       "      <th>8</th>\n",
       "      <td>20155</td>\n",
       "      <td>1120129.0</td>\n",
       "      <td>17:29:26</td>\n",
       "      <td>30-08-22</td>\n",
       "      <td>ALPHA</td>\n",
       "      <td>A1 Haps Rit: 100988MKA Brabant-Noord (Ambulance 21-129)</td>\n",
       "      <td>NaN</td>\n",
       "      <td>NaN</td>\n",
       "      <td>NaN</td>\n",
       "      <td>NaN</td>\n",
       "      <td>NaN</td>\n",
       "      <td>True</td>\n",
       "      <td>True</td>\n",
       "    </tr>\n",
       "    <tr>\n",
       "      <th>10</th>\n",
       "      <td>4682</td>\n",
       "      <td>1120123.0</td>\n",
       "      <td>03:21:27</td>\n",
       "      <td>17-12-21</td>\n",
       "      <td>ALPHA</td>\n",
       "      <td>A2 Uden Rit: 137430MKA Brabant-Noord (Ambulance 21-123)</td>\n",
       "      <td>Ambulance</td>\n",
       "      <td>Brabant Noord</td>\n",
       "      <td>NaN</td>\n",
       "      <td>21-123</td>\n",
       "      <td>NaN</td>\n",
       "      <td>True</td>\n",
       "      <td>True</td>\n",
       "    </tr>\n",
       "  </tbody>\n",
       "</table>\n",
       "</div>"
      ],
      "text/plain": [
       "    scrape_number       code     times     dates   sign  \\\n",
       "0            2573   126158.0  22:34:30  17-02-23  GROUP   \n",
       "1           33315  1420054.0  23:50:19  24-04-22  GROUP   \n",
       "7           32899  1420046.0  09:14:57  12-07-23  GROUP   \n",
       "8           20155  1120129.0  17:29:26  30-08-22  ALPHA   \n",
       "10           4682  1120123.0  03:21:27  17-12-21  ALPHA   \n",
       "\n",
       "                                                                                                                  info  \\\n",
       "0               A1 12158 Rit 23268 Adriaan Morrienpad Driehuis NHAmbulance Kennemerland (Ambulance 12-158 Witte Kruis)   \n",
       "1                    A1 AMBU 17154 1e Opbouwstraat 3076PR Rotterdam ROTTDM bon 60012CPA Rijnmond AZRR Ambulance 17-154   \n",
       "7   A2 (DIA: ja) AMBU 17146 Lieve Verschuierstraat 3021ZA Rotterdam ROTTDM bon 98180CPA Rijnmond AZRR Ambulance 17-146   \n",
       "8                                                              A1 Haps Rit: 100988MKA Brabant-Noord (Ambulance 21-129)   \n",
       "10                                                             A2 Uden Rit: 137430MKA Brabant-Noord (Ambulance 21-123)   \n",
       "\n",
       "   cap_service              region        dorp  \\\n",
       "0    Ambulance        Kennemerland         NaN   \n",
       "1    Ambulance  Rotterdam-Rijnmond         NaN   \n",
       "7    Ambulance  Rotterdam-Rijnmond  VRR - AZRR   \n",
       "8          NaN                 NaN         NaN   \n",
       "10   Ambulance       Brabant Noord         NaN   \n",
       "\n",
       "                                   unit_type extra  ambu_flag  hyb_ambu_flag  \n",
       "0   Ambulance 12-158 (Post Heemskerk/Velsen)   NaN       True           True  \n",
       "1                                     17-154   NaN       True           True  \n",
       "7                           Ambulance 17-146   NaN       True           True  \n",
       "8                                        NaN   NaN       True           True  \n",
       "10                                    21-123   NaN       True           True  "
      ]
     },
     "execution_count": 21,
     "metadata": {},
     "output_type": "execute_result"
    }
   ],
   "source": [
    "ambu_only.head()"
   ]
  },
  {
   "cell_type": "code",
   "execution_count": 22,
   "id": "6f587139-ef64-454d-8c09-3a9211c4f893",
   "metadata": {},
   "outputs": [],
   "source": [
    "# Pull out the priority codes using first three characters, then remove any whitespace.\n",
    "ambu_only = ambu_only.assign(prio = ambu_only['info'].str[:3].str.replace(\" \", \"\"))"
   ]
  },
  {
   "cell_type": "code",
   "execution_count": 23,
   "id": "3d7e0c54-0d52-4208-a1de-2ce468abbff6",
   "metadata": {},
   "outputs": [
    {
     "data": {
      "text/plain": [
       "prio\n",
       "A2     176\n",
       "A1     115\n",
       "B1      28\n",
       "B2      22\n",
       "SPO      5\n",
       "Hel      2\n",
       "Gra      2\n",
       "Gaa      1\n",
       "ver      1\n",
       "tes      1\n",
       "Ein      1\n",
       "P1       1\n",
       "P2       1\n",
       "101      1\n",
       "ein      1\n",
       "Name: count, dtype: int64"
      ]
     },
     "execution_count": 23,
     "metadata": {},
     "output_type": "execute_result"
    }
   ],
   "source": [
    "# Check resulting categories. \n",
    "ambu_only['prio'].value_counts()"
   ]
  },
  {
   "cell_type": "markdown",
   "id": "43b7f332-1a56-4b94-b49e-925d49f91a4c",
   "metadata": {},
   "source": [
    "As per information on P2000 hobby websites (e.g., [112 Zuidland](https://www.112-zuidland.nl/p1-en-a1-wat-betekend-dat-eigenlijk/)), we're only really interested in P1 or P2 codes. Vast majority of info strings are these anyway. To avoid capturing non-dispatch P2000 incidents, we now only filter by those incidents that have such a code."
   ]
  },
  {
   "cell_type": "code",
   "execution_count": 24,
   "id": "c73a04a2-e61e-4778-bdfc-c9f2d898d9c0",
   "metadata": {},
   "outputs": [],
   "source": [
    "ambu_disp = ambu_only[(ambu_only.prio == \"A1\")  | (ambu_only.prio == \"A2\")]"
   ]
  },
  {
   "cell_type": "code",
   "execution_count": 25,
   "id": "4656d805-a7e1-4ec6-8434-1dad6eadb3e4",
   "metadata": {},
   "outputs": [
    {
     "name": "stdout",
     "output_type": "stream",
     "text": [
      "prio\n",
      "A2    176\n",
      "A1    115\n",
      "Name: count, dtype: int64\n"
     ]
    }
   ],
   "source": [
    "# Frequency counts of prios.\n",
    "prio_counts = ambu_disp['prio'].value_counts()\n",
    "print(prio_counts)"
   ]
  },
  {
   "cell_type": "code",
   "execution_count": 26,
   "id": "0efc6133-14bf-488c-b4c6-f462b72d9e6b",
   "metadata": {},
   "outputs": [
    {
     "data": {
      "text/plain": [
       "<Axes: xlabel='prio'>"
      ]
     },
     "execution_count": 26,
     "metadata": {},
     "output_type": "execute_result"
    },
    {
     "data": {
      "image/png": "[encoded data removed]",
      "text/plain": [
       "<Figure size 640x480 with 1 Axes>"
      ]
     },
     "metadata": {},
     "output_type": "display_data"
    }
   ],
   "source": [
    "# Bar plot of prios nationwide.\n",
    "prio_counts.plot.bar()"
   ]
  },
  {
   "cell_type": "code",
   "execution_count": 27,
   "id": "5962542d-4201-49b5-98fc-936ed36a7865",
   "metadata": {},
   "outputs": [
    {
     "name": "stdout",
     "output_type": "stream",
     "text": [
      "region\n",
      "Midden- en West-Brabant    43\n",
      "Rotterdam-Rijnmond         36\n",
      "Amsterdam-Amstelland       26\n",
      "Haaglanden                 23\n",
      "Kennemerland               16\n",
      "Gelderland Zuid            16\n",
      "Zeeland                    13\n",
      "Zuid-Holland Zuid          11\n",
      "Brabant Zuid-Oost           9\n",
      "Utrecht                     7\n",
      "Noord-Holland Noord         5\n",
      "Gelderland Midden           5\n",
      "Brabant Noord               4\n",
      "Hollands Midden             2\n",
      "Name: count, dtype: int64\n"
     ]
    }
   ],
   "source": [
    "# Frequency counts of incidents, nationwide.\n",
    "region_counts = ambu_disp['region'].value_counts()\n",
    "print(region_counts)"
   ]
  },
  {
   "cell_type": "code",
   "execution_count": 30,
   "id": "188b0068-4e7d-43a4-a671-696218378017",
   "metadata": {
    "scrolled": true
   },
   "outputs": [
    {
     "data": {
      "text/plain": [
       "<Axes: xlabel='region'>"
      ]
     },
     "execution_count": 30,
     "metadata": {},
     "output_type": "execute_result"
    },
    {
     "data": {
      "image/png": "[encoded data removed]",
      "text/plain": [
       "<Figure size 640x480 with 1 Axes>"
      ]
     },
     "metadata": {},
     "output_type": "display_data"
    }
   ],
   "source": [
    "# Bar plot of regional counts.\n",
    "region_counts.plot.bar()"
   ]
  },
  {
   "cell_type": "code",
   "execution_count": 31,
   "id": "4862b595-2e24-4498-b415-144a7383d107",
   "metadata": {},
   "outputs": [
    {
     "data": {
      "text/plain": [
       "Index(['scrape_number', 'code', 'times', 'dates', 'sign', 'info',\n",
       "       'cap_service', 'region', 'dorp', 'unit_type', 'extra', 'ambu_flag',\n",
       "       'hyb_ambu_flag', 'prio'],\n",
       "      dtype='object')"
      ]
     },
     "execution_count": 31,
     "metadata": {},
     "output_type": "execute_result"
    }
   ],
   "source": [
    "ambu_disp.columns"
   ]
  },
  {
   "cell_type": "code",
   "execution_count": 32,
   "id": "be192c6d-1179-42c5-ab06-d8e7bb58d044",
   "metadata": {},
   "outputs": [],
   "source": [
    "# Create time variable.\n",
    "ambu_disp.loc[:, 'times'] = pd.to_datetime(ambu_disp['times'], format='%H:%M:%S').dt.time"
   ]
  },
  {
   "cell_type": "code",
   "execution_count": 33,
   "id": "ae7cc6cf-013b-44c5-954f-dd557b6a76ec",
   "metadata": {},
   "outputs": [
    {
     "name": "stdout",
     "output_type": "stream",
     "text": [
      "<class 'datetime.time'>\n"
     ]
    }
   ],
   "source": [
    "print(type(ambu_disp['times'][0]))"
   ]
  },
  {
   "cell_type": "code",
   "execution_count": 34,
   "id": "3579c2c7-516e-45fc-b76f-c0cbf84ec2e5",
   "metadata": {},
   "outputs": [
    {
     "data": {
      "text/plain": [
       "Index(['scrape_number', 'code', 'times', 'dates', 'sign', 'info',\n",
       "       'cap_service', 'region', 'dorp', 'unit_type', 'extra', 'ambu_flag',\n",
       "       'hyb_ambu_flag', 'prio'],\n",
       "      dtype='object')"
      ]
     },
     "execution_count": 34,
     "metadata": {},
     "output_type": "execute_result"
    }
   ],
   "source": [
    "ambu_disp.columns"
   ]
  },
  {
   "cell_type": "code",
   "execution_count": 35,
   "id": "eea5c8d5-f686-42bf-92f3-7179b9f231ad",
   "metadata": {},
   "outputs": [
    {
     "name": "stdout",
     "output_type": "stream",
     "text": [
      "0      22:34:30\n",
      "1      23:50:19\n",
      "7      09:14:57\n",
      "8      17:29:26\n",
      "10     03:21:27\n",
      "         ...   \n",
      "647    13:34:46\n",
      "650    14:22:13\n",
      "651    22:09:55\n",
      "653    08:05:45\n",
      "655    10:33:44\n",
      "Name: times, Length: 291, dtype: object\n"
     ]
    }
   ],
   "source": [
    "print(ambu_disp['times'])"
   ]
  },
  {
   "cell_type": "code",
   "execution_count": 36,
   "id": "c9a0e920-0618-4cd0-a080-e6d187bee11c",
   "metadata": {},
   "outputs": [],
   "source": [
    "# Extract hours.\n",
    "hours_result = []\n",
    "\n",
    "for h in ambu_disp['times']:\n",
    "    hours_result.append(h.hour)"
   ]
  },
  {
   "cell_type": "code",
   "execution_count": 37,
   "id": "85df0fa3-64c7-44ff-80a2-b221fb394ca7",
   "metadata": {},
   "outputs": [
    {
     "data": {
      "text/plain": [
       "list"
      ]
     },
     "execution_count": 37,
     "metadata": {},
     "output_type": "execute_result"
    }
   ],
   "source": [
    "# Check type. \n",
    "type(hours_result)"
   ]
  },
  {
   "cell_type": "code",
   "execution_count": null,
   "id": "f509936a-0037-40c4-8e14-e7e4e6d9a769",
   "metadata": {},
   "outputs": [],
   "source": [
    "# Assign back to data frame. \n",
    "ambu_disp.loc[:, 'day_hours'] = pd.to_numeric(hours_result, downcast = 'signed')\n",
    "\n",
    "print(ambu_disp['day_hours'])"
   ]
  },
  {
   "cell_type": "code",
   "execution_count": 64,
   "id": "504f329f-4419-43fd-afe5-c5fd0861af32",
   "metadata": {},
   "outputs": [
    {
     "name": "stdout",
     "output_type": "stream",
     "text": [
      "    day_hours  count\n",
      "0         1.0     18\n",
      "1        11.0     17\n",
      "2         9.0     16\n",
      "3        15.0     16\n",
      "4        23.0     16\n",
      "5         0.0     16\n",
      "6         2.0     15\n",
      "7         8.0     15\n",
      "8        14.0     15\n",
      "9        18.0     13\n",
      "10       13.0     12\n",
      "11        7.0     12\n",
      "12       16.0     12\n",
      "13        3.0     12\n",
      "14       21.0     11\n",
      "15       20.0     11\n",
      "16       10.0     10\n",
      "17       22.0      9\n",
      "18        5.0      9\n",
      "19       17.0      9\n",
      "20       19.0      8\n",
      "21        4.0      8\n",
      "22       12.0      6\n",
      "23        6.0      5\n"
     ]
    }
   ],
   "source": [
    "# Freq count.\n",
    "hourly_counts = ambu_disp['day_hours'].value_counts().reset_index()\n",
    "print(hourly_counts)"
   ]
  },
  {
   "cell_type": "code",
   "execution_count": 66,
   "id": "a46231a2-3ddc-4456-9961-5999f6afb1c1",
   "metadata": {},
   "outputs": [
    {
     "data": {
      "text/plain": [
       "<Axes: xlabel='day_hours', ylabel='count'>"
      ]
     },
     "execution_count": 66,
     "metadata": {},
     "output_type": "execute_result"
    },
    {
     "data": {
      "image/png": "[encoded data removed]",
      "text/plain": [
       "<Figure size 640x480 with 1 Axes>"
      ]
     },
     "metadata": {},
     "output_type": "display_data"
    }
   ],
   "source": [
    "# Plot.\n",
    "hourly_counts.plot.scatter(x='day_hours', y='count')"
   ]
  },
  {
   "cell_type": "code",
   "execution_count": null,
   "id": "8e848b47-4bf4-45d5-b5a5-537fc78f6476",
   "metadata": {},
   "outputs": [],
   "source": []
  }
 ],
 "metadata": {
  "kernelspec": {
   "display_name": "Python 3 (ipykernel)",
   "language": "python",
   "name": "python3"
  },
  "language_info": {
   "codemirror_mode": {
    "name": "ipython",
    "version": 3
   },
   "file_extension": ".py",
   "mimetype": "text/x-python",
   "name": "python",
   "nbconvert_exporter": "python",
   "pygments_lexer": "ipython3",
   "version": "3.12.3"
  }
 },
 "nbformat": 4,
 "nbformat_minor": 5
}
