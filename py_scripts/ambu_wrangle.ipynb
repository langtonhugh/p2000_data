{
 "cells": [
  {
   "cell_type": "code",
   "execution_count": null,
   "id": "e03f07c9-3fcc-4379-bd16-f8fb7f5e7532",
   "metadata": {
    "scrolled": true
   },
   "outputs": [],
   "source": [
    "# Import libraries.\n",
    "import pandas as pd\n",
    "\n",
    "# Settings.\n",
    "pd.set_option('display.max_colwidth', None)\n",
    "\n",
    "# Load in data. For now this is the sample generated\n",
    "# in p2000_brandweer_create_data.r.\n",
    "scrapes = pd.read_csv(\"../data/all_sample_scrapes.csv\")\n",
    "\n",
    "# Check load correctly.\n",
    "scrapes.head()"
   ]
  },
  {
   "cell_type": "code",
   "execution_count": null,
   "id": "ac44aeb1-8a41-427a-8675-dc5a41745d2f",
   "metadata": {},
   "outputs": [],
   "source": [
    "# Rename columns.\n",
    "scrapes.rename(columns={'X1': 'code' ,\n",
    "                        'X2': 'times',\n",
    "                        'X3': 'dates',\n",
    "                        'X4': 'sign',\n",
    "                        'X5': 'info'},\n",
    "               inplace=True)"
   ]
  },
  {
   "cell_type": "code",
   "execution_count": null,
   "id": "62e5ea40-2727-453e-af7f-24f7b70ea83f",
   "metadata": {},
   "outputs": [],
   "source": [
    "# Check it worked.\n",
    "scrapes.columns"
   ]
  },
  {
   "cell_type": "code",
   "execution_count": null,
   "id": "7d43e4a5-d036-4635-9e4b-e6603eefdc84",
   "metadata": {},
   "outputs": [],
   "source": [
    "# Count missings.\n",
    "scrapes.isna().sum()"
   ]
  },
  {
   "cell_type": "code",
   "execution_count": null,
   "id": "8294ce9d-1605-4ba5-9707-0531fbda2178",
   "metadata": {},
   "outputs": [],
   "source": [
    "# Missings are an artefact of the scrape, separating incidents.\n",
    "scrapes_nm = scrapes.dropna(inplace = False)"
   ]
  },
  {
   "cell_type": "code",
   "execution_count": null,
   "id": "47896994-26b2-4701-b2ed-56edfefce2fd",
   "metadata": {},
   "outputs": [],
   "source": [
    "# Due to scrape frequency, there are loads of duplicates. Remove them.\n",
    "scrapes_nm_dd = scrapes_nm.drop_duplicates(subset = ['times', 'dates', 'info'],\n",
    "                                           keep = False)"
   ]
  },
  {
   "cell_type": "code",
   "execution_count": null,
   "id": "c8869f33-bafa-4ab1-a984-c58ac75a118b",
   "metadata": {},
   "outputs": [],
   "source": [
    "# Check it worked. ***Re-check with full data**\n",
    "raw_dim = scrapes_nm.shape\n",
    "dd_dim  = scrapes_nm_dd.shape\n",
    "print(raw_dim, dd_dim)"
   ]
  },
  {
   "cell_type": "code",
   "execution_count": null,
   "id": "b453ab47-48a1-403f-847e-aca824e0dbbb",
   "metadata": {},
   "outputs": [],
   "source": [
    "# Load in CAP data.\n",
    "cap = pd.read_csv(\"../data/capcodelijst_source_in_header.csv\", skiprows=1, delimiter=';')"
   ]
  },
  {
   "cell_type": "code",
   "execution_count": null,
   "id": "b5b70870-94b5-44cf-b2c2-4e69a994c9bc",
   "metadata": {},
   "outputs": [],
   "source": [
    "# Check contents.\n",
    "cap.head()"
   ]
  },
  {
   "cell_type": "code",
   "execution_count": null,
   "id": "aade7478-e04a-4ea3-a950-78aac61bb306",
   "metadata": {},
   "outputs": [],
   "source": [
    "# Join by code. \n",
    "scrapes_wcodes = scrapes_nm_dd.merge(cap, on = \"code\", how = \"left\")"
   ]
  },
  {
   "cell_type": "code",
   "execution_count": null,
   "id": "c0ed5799-9ca6-4dcc-9493-b8d2dd7d77a3",
   "metadata": {},
   "outputs": [],
   "source": [
    "# Check structure now.\n",
    "scrapes_wcodes.head()"
   ]
  },
  {
   "cell_type": "code",
   "execution_count": null,
   "id": "4b4f1ed0-98fe-4455-949b-169a215d60c0",
   "metadata": {},
   "outputs": [],
   "source": [
    "# Create a string-based detection flag and compare.\n",
    "str(scrapes_wcodes['info']).lower().find('ambulance', 0, len(scrapes_wcodes['info']) )"
   ]
  },
  {
   "cell_type": "code",
   "execution_count": null,
   "id": "c3b3cc3a-82f0-4287-b22b-bd43fa8e2e6e",
   "metadata": {},
   "outputs": [],
   "source": [
    "# Another way.\n",
    "if 'ambulance' in str(scrapes_wcodes['info']).lower():\n",
    "    print(\"contains ambulance\")"
   ]
  },
  {
   "cell_type": "code",
   "execution_count": 38,
   "id": "cf554483-46da-42d4-b2f5-50af7f9be9da",
   "metadata": {},
   "outputs": [
    {
     "ename": "AttributeError",
     "evalue": "'Series' object has no attribute 'lower'",
     "output_type": "error",
     "traceback": [
      "\u001b[1;31m---------------------------------------------------------------------------\u001b[0m",
      "\u001b[1;31mAttributeError\u001b[0m                            Traceback (most recent call last)",
      "\u001b[1;32m~\\AppData\\Local\\Temp\\ipykernel_11700\\1233628422.py\u001b[0m in \u001b[0;36m?\u001b[1;34m()\u001b[0m\n\u001b[0;32m      1\u001b[0m \u001b[1;31m# Another way.\u001b[0m\u001b[1;33m\u001b[0m\u001b[1;33m\u001b[0m\u001b[0m\n\u001b[1;32m----> 2\u001b[1;33m \u001b[0mscrapes_wcodes\u001b[0m\u001b[1;33m[\u001b[0m\u001b[1;34m'info'\u001b[0m\u001b[1;33m]\u001b[0m\u001b[1;33m.\u001b[0m\u001b[0mlower\u001b[0m\u001b[1;33m(\u001b[0m\u001b[1;33m)\u001b[0m\u001b[1;33m.\u001b[0m\u001b[0mstr\u001b[0m\u001b[1;33m.\u001b[0m\u001b[0mcontains\u001b[0m\u001b[1;33m(\u001b[0m\u001b[1;34m'Ambulance'\u001b[0m\u001b[1;33m)\u001b[0m\u001b[1;33m\u001b[0m\u001b[1;33m\u001b[0m\u001b[0m\n\u001b[0m",
      "\u001b[1;32m~\\AppData\\Local\\Programs\\Python\\Python312\\Lib\\site-packages\\pandas\\core\\generic.py\u001b[0m in \u001b[0;36m?\u001b[1;34m(self, name)\u001b[0m\n\u001b[0;32m   6295\u001b[0m             \u001b[1;32mand\u001b[0m \u001b[0mname\u001b[0m \u001b[1;32mnot\u001b[0m \u001b[1;32min\u001b[0m \u001b[0mself\u001b[0m\u001b[1;33m.\u001b[0m\u001b[0m_accessors\u001b[0m\u001b[1;33m\u001b[0m\u001b[1;33m\u001b[0m\u001b[0m\n\u001b[0;32m   6296\u001b[0m             \u001b[1;32mand\u001b[0m \u001b[0mself\u001b[0m\u001b[1;33m.\u001b[0m\u001b[0m_info_axis\u001b[0m\u001b[1;33m.\u001b[0m\u001b[0m_can_hold_identifiers_and_holds_name\u001b[0m\u001b[1;33m(\u001b[0m\u001b[0mname\u001b[0m\u001b[1;33m)\u001b[0m\u001b[1;33m\u001b[0m\u001b[1;33m\u001b[0m\u001b[0m\n\u001b[0;32m   6297\u001b[0m         \u001b[1;33m)\u001b[0m\u001b[1;33m:\u001b[0m\u001b[1;33m\u001b[0m\u001b[1;33m\u001b[0m\u001b[0m\n\u001b[0;32m   6298\u001b[0m             \u001b[1;32mreturn\u001b[0m \u001b[0mself\u001b[0m\u001b[1;33m[\u001b[0m\u001b[0mname\u001b[0m\u001b[1;33m]\u001b[0m\u001b[1;33m\u001b[0m\u001b[1;33m\u001b[0m\u001b[0m\n\u001b[1;32m-> 6299\u001b[1;33m         \u001b[1;32mreturn\u001b[0m \u001b[0mobject\u001b[0m\u001b[1;33m.\u001b[0m\u001b[0m__getattribute__\u001b[0m\u001b[1;33m(\u001b[0m\u001b[0mself\u001b[0m\u001b[1;33m,\u001b[0m \u001b[0mname\u001b[0m\u001b[1;33m)\u001b[0m\u001b[1;33m\u001b[0m\u001b[1;33m\u001b[0m\u001b[0m\n\u001b[0m",
      "\u001b[1;31mAttributeError\u001b[0m: 'Series' object has no attribute 'lower'"
     ]
    }
   ],
   "source": [
    "# Another way.\n",
    "scrapes_wcodes['info'].str.contains('Ambulance')"
   ]
  },
  {
   "cell_type": "code",
   "execution_count": null,
   "id": "de143074-c678-4502-800b-26c911f4f33d",
   "metadata": {},
   "outputs": [],
   "source": []
  }
 ],
 "metadata": {
  "kernelspec": {
   "display_name": "Python 3 (ipykernel)",
   "language": "python",
   "name": "python3"
  },
  "language_info": {
   "codemirror_mode": {
    "name": "ipython",
    "version": 3
   },
   "file_extension": ".py",
   "mimetype": "text/x-python",
   "name": "python",
   "nbconvert_exporter": "python",
   "pygments_lexer": "ipython3",
   "version": "3.12.3"
  }
 },
 "nbformat": 4,
 "nbformat_minor": 5
}
