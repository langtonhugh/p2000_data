{
 "cells": [
  {
   "cell_type": "code",
   "execution_count": null,
   "id": "e03f07c9-3fcc-4379-bd16-f8fb7f5e7532",
   "metadata": {
    "scrolled": true
   },
   "outputs": [],
   "source": [
    "# Import libraries.\n",
    "import pandas as pd\n",
    "import matplotlib.pyplot as plt\n",
    "\n",
    "# Settings.\n",
    "pd.set_option('display.max_colwidth', None)\n",
    "\n",
    "# Load in data. For now this is the sample generated\n",
    "# in p2000_brandweer_create_data.r.\n",
    "scrapes = pd.read_csv(\"../data/all_sample_scrapes.csv\")\n",
    "\n",
    "# Check load correctly.\n",
    "#scrapes.head()"
   ]
  },
  {
   "cell_type": "code",
   "execution_count": null,
   "id": "ac44aeb1-8a41-427a-8675-dc5a41745d2f",
   "metadata": {},
   "outputs": [],
   "source": [
    "# Rename columns.\n",
    "scrapes.rename(columns={'X1': 'code' ,\n",
    "                        'X2': 'times',\n",
    "                        'X3': 'dates',\n",
    "                        'X4': 'sign',\n",
    "                        'X5': 'info'},\n",
    "               inplace=True)"
   ]
  },
  {
   "cell_type": "code",
   "execution_count": null,
   "id": "62e5ea40-2727-453e-af7f-24f7b70ea83f",
   "metadata": {},
   "outputs": [],
   "source": [
    "# Check it worked.\n",
    "scrapes.columns"
   ]
  },
  {
   "cell_type": "code",
   "execution_count": null,
   "id": "7d43e4a5-d036-4635-9e4b-e6603eefdc84",
   "metadata": {},
   "outputs": [],
   "source": [
    "# Count missings.\n",
    "scrapes.isna().sum()"
   ]
  },
  {
   "cell_type": "code",
   "execution_count": null,
   "id": "8294ce9d-1605-4ba5-9707-0531fbda2178",
   "metadata": {},
   "outputs": [],
   "source": [
    "# Missings are an artefact of the scrape, separating incidents.\n",
    "scrapes_nm = scrapes.dropna(inplace = False)"
   ]
  },
  {
   "cell_type": "code",
   "execution_count": null,
   "id": "47896994-26b2-4701-b2ed-56edfefce2fd",
   "metadata": {},
   "outputs": [],
   "source": [
    "# Due to scrape frequency, there are loads of duplicates. Remove them.\n",
    "scrapes_nm_dd = scrapes_nm.drop_duplicates(subset = ['times', 'dates', 'info'],\n",
    "                                           keep = False)"
   ]
  },
  {
   "cell_type": "code",
   "execution_count": null,
   "id": "c8869f33-bafa-4ab1-a984-c58ac75a118b",
   "metadata": {},
   "outputs": [],
   "source": [
    "# Check it worked as expected.\n",
    "raw_dim = scrapes_nm.shape\n",
    "dd_dim  = scrapes_nm_dd.shape\n",
    "print(raw_dim, dd_dim)"
   ]
  },
  {
   "cell_type": "code",
   "execution_count": null,
   "id": "b453ab47-48a1-403f-847e-aca824e0dbbb",
   "metadata": {},
   "outputs": [],
   "source": [
    "# Load in CAP data.\n",
    "cap = pd.read_csv(\"../data/capcodelijst_source_in_header.csv\", skiprows=1, delimiter=';')"
   ]
  },
  {
   "cell_type": "code",
   "execution_count": null,
   "id": "b5b70870-94b5-44cf-b2c2-4e69a994c9bc",
   "metadata": {},
   "outputs": [],
   "source": [
    "# Check contents.\n",
    "cap.head()"
   ]
  },
  {
   "cell_type": "code",
   "execution_count": null,
   "id": "aade7478-e04a-4ea3-a950-78aac61bb306",
   "metadata": {},
   "outputs": [],
   "source": [
    "# Join by code. \n",
    "scrapes_wcodes = scrapes_nm_dd.merge(cap, on = \"code\", how = \"left\")"
   ]
  },
  {
   "cell_type": "code",
   "execution_count": null,
   "id": "c0ed5799-9ca6-4dcc-9493-b8d2dd7d77a3",
   "metadata": {},
   "outputs": [],
   "source": [
    "# Check structure now.\n",
    "scrapes_wcodes.head()"
   ]
  },
  {
   "cell_type": "code",
   "execution_count": null,
   "id": "cf554483-46da-42d4-b2f5-50af7f9be9da",
   "metadata": {},
   "outputs": [],
   "source": [
    "# Flag occurences to ambulance or AMBU (we know these are commonly used).\n",
    "scrapes_wcodes['info'].str.contains('Ambulance|AMBU').value_counts()"
   ]
  },
  {
   "cell_type": "code",
   "execution_count": null,
   "id": "2f9d3ce5-6f70-47ea-8d46-0e5f6b7070b2",
   "metadata": {},
   "outputs": [],
   "source": [
    "# Add flag to the data frame.\n",
    "scrapes_wcodes = scrapes_wcodes.assign(ambu_flag = scrapes_wcodes['info'].str.contains('Ambulance|AMBU'))"
   ]
  },
  {
   "cell_type": "code",
   "execution_count": null,
   "id": "eeea1001-40a8-4a79-9e03-31f0f52ebc8b",
   "metadata": {},
   "outputs": [],
   "source": [
    "# Check it worked.\n",
    "scrapes_wcodes['ambu_flag'].value_counts()"
   ]
  },
  {
   "cell_type": "code",
   "execution_count": null,
   "id": "5ad956ed-f585-4e68-96e3-26dc0fbddddf",
   "metadata": {},
   "outputs": [],
   "source": [
    "# Compare the existing CAP flag with the character string filter.\n",
    "pd.crosstab(index = scrapes_wcodes.cap_service, columns = scrapes_wcodes.ambu_flag)"
   ]
  },
  {
   "cell_type": "markdown",
   "id": "25842ff5-5956-4cf2-8706-c4933cb0dabf",
   "metadata": {},
   "source": [
    "The above demonstrates that the flag works nicely for KNRM and Politie, and almost always for Brandweer. Manualy inspection of those Brandweer 'True' flags indicates that maybe the CAP codes really does miss them, for some reason, because the info string definitely states AMBU or Ambulance."
   ]
  },
  {
   "cell_type": "code",
   "execution_count": null,
   "id": "a23028a6-ba89-44a5-8cd8-78446ce7e9f3",
   "metadata": {},
   "outputs": [],
   "source": [
    "disgaree = scrapes_wcodes[(scrapes_wcodes['cap_service'] == \"Ambulance\") &\n",
    "                          (scrapes_wcodes['ambu_flag'] == False) ]"
   ]
  },
  {
   "cell_type": "code",
   "execution_count": null,
   "id": "60816421-570f-489d-b6ad-d8fbec7e3698",
   "metadata": {},
   "outputs": [],
   "source": [
    "# Inspect manually.\n",
    "disgaree.head()"
   ]
  },
  {
   "cell_type": "markdown",
   "id": "d2305bc5-7d0b-4ea2-9301-acffb0df92ae",
   "metadata": {},
   "source": [
    "For now, we decide to create a hybrid flag: if it's identified via the character string, or the CAP code, it's an ambulance! Feel free to explore this more or try something different."
   ]
  },
  {
   "cell_type": "code",
   "execution_count": null,
   "id": "77c7f741-2b68-41fd-a6c3-8fc996435813",
   "metadata": {},
   "outputs": [],
   "source": [
    "scrapes_wcodes = scrapes_wcodes.assign(hyb_ambu_flag = (scrapes_wcodes['cap_service'] == \"Ambulance\")  | (scrapes_wcodes['ambu_flag'] == True))"
   ]
  },
  {
   "cell_type": "code",
   "execution_count": null,
   "id": "7b08a862-16ca-460d-a829-3f802528f565",
   "metadata": {},
   "outputs": [],
   "source": [
    "# Check that it worked as expected.\n",
    "pd.crosstab(index = scrapes_wcodes.hyb_ambu_flag, columns = scrapes_wcodes.cap_service)"
   ]
  },
  {
   "cell_type": "code",
   "execution_count": null,
   "id": "af1e086d-d553-4301-b644-ab13778c6e59",
   "metadata": {},
   "outputs": [],
   "source": [
    "# Now we make the filter for ambulance-only.\n",
    "ambu_only = scrapes_wcodes[scrapes_wcodes.hyb_ambu_flag == True]"
   ]
  },
  {
   "cell_type": "code",
   "execution_count": null,
   "id": "d88aea0d-a9cd-4b21-aa24-c190662d7923",
   "metadata": {
    "scrolled": true
   },
   "outputs": [],
   "source": [
    "ambu_only.head()"
   ]
  },
  {
   "cell_type": "code",
   "execution_count": null,
   "id": "6f587139-ef64-454d-8c09-3a9211c4f893",
   "metadata": {},
   "outputs": [],
   "source": [
    "# Pull out the priority codes using first three characters, then remove any whitespace.\n",
    "ambu_only = ambu_only.assign(prio = ambu_only['info'].str[:3].str.replace(\" \", \"\"))"
   ]
  },
  {
   "cell_type": "code",
   "execution_count": null,
   "id": "3d7e0c54-0d52-4208-a1de-2ce468abbff6",
   "metadata": {},
   "outputs": [],
   "source": [
    "# Check resulting categories. \n",
    "ambu_only['prio'].value_counts()"
   ]
  },
  {
   "cell_type": "markdown",
   "id": "43b7f332-1a56-4b94-b49e-925d49f91a4c",
   "metadata": {},
   "source": [
    "As per information on P2000 hobby websites (e.g., [112 Zuidland](https://www.112-zuidland.nl/p1-en-a1-wat-betekend-dat-eigenlijk/)), we're only really interested in P1 or P2 codes. Vast majority of info strings are these anyway. To avoid capturing non-dispatch P2000 incidents, we now only filter by those incidents that have such a code."
   ]
  },
  {
   "cell_type": "code",
   "execution_count": null,
   "id": "c73a04a2-e61e-4778-bdfc-c9f2d898d9c0",
   "metadata": {},
   "outputs": [],
   "source": [
    "ambu_disp = ambu_only[(ambu_only.prio == \"A1\")  | (ambu_only.prio == \"A2\")]"
   ]
  },
  {
   "cell_type": "code",
   "execution_count": null,
   "id": "4656d805-a7e1-4ec6-8434-1dad6eadb3e4",
   "metadata": {},
   "outputs": [],
   "source": [
    "# Frequency counts of prios.\n",
    "prio_counts = ambu_disp['prio'].value_counts()\n",
    "print(prio_counts)"
   ]
  },
  {
   "cell_type": "code",
   "execution_count": null,
   "id": "0efc6133-14bf-488c-b4c6-f462b72d9e6b",
   "metadata": {},
   "outputs": [],
   "source": [
    "# Bar plot of prios nationwide.\n",
    "prio_counts.plot.bar()"
   ]
  },
  {
   "cell_type": "code",
   "execution_count": null,
   "id": "5962542d-4201-49b5-98fc-936ed36a7865",
   "metadata": {},
   "outputs": [],
   "source": [
    "# Frequency counts of incidents, nationwide.\n",
    "region_counts = ambu_disp['region'].value_counts()\n",
    "print(region_counts)"
   ]
  },
  {
   "cell_type": "code",
   "execution_count": null,
   "id": "188b0068-4e7d-43a4-a671-696218378017",
   "metadata": {
    "scrolled": true
   },
   "outputs": [],
   "source": [
    "# Bar plot of regional counts.\n",
    "region_counts.plot.bar()"
   ]
  },
  {
   "cell_type": "code",
   "execution_count": null,
   "id": "4862b595-2e24-4498-b415-144a7383d107",
   "metadata": {},
   "outputs": [],
   "source": [
    "ambu_disp.columns"
   ]
  },
  {
   "cell_type": "code",
   "execution_count": null,
   "id": "be192c6d-1179-42c5-ab06-d8e7bb58d044",
   "metadata": {},
   "outputs": [],
   "source": [
    "# Create time variable.\n",
    "ambu_disp.loc[:, 'times'] = pd.to_datetime(ambu_disp['times'], format='%H:%M:%S').dt.time"
   ]
  },
  {
   "cell_type": "code",
   "execution_count": null,
   "id": "ae7cc6cf-013b-44c5-954f-dd557b6a76ec",
   "metadata": {},
   "outputs": [],
   "source": [
    "print(type(ambu_disp['times'][0]))"
   ]
  },
  {
   "cell_type": "code",
   "execution_count": null,
   "id": "3579c2c7-516e-45fc-b76f-c0cbf84ec2e5",
   "metadata": {},
   "outputs": [],
   "source": [
    "ambu_disp.columns"
   ]
  },
  {
   "cell_type": "code",
   "execution_count": null,
   "id": "eea5c8d5-f686-42bf-92f3-7179b9f231ad",
   "metadata": {},
   "outputs": [],
   "source": [
    "print(ambu_disp['times'])"
   ]
  },
  {
   "cell_type": "code",
   "execution_count": null,
   "id": "c9a0e920-0618-4cd0-a080-e6d187bee11c",
   "metadata": {},
   "outputs": [],
   "source": [
    "# Extract hours.\n",
    "hours_result = []\n",
    "\n",
    "for h in ambu_disp['times']:\n",
    "    hours_result.append(h.hour)"
   ]
  },
  {
   "cell_type": "code",
   "execution_count": null,
   "id": "85df0fa3-64c7-44ff-80a2-b221fb394ca7",
   "metadata": {},
   "outputs": [],
   "source": [
    "# Check type. \n",
    "type(hours_result)"
   ]
  },
  {
   "cell_type": "code",
   "execution_count": null,
   "id": "f509936a-0037-40c4-8e14-e7e4e6d9a769",
   "metadata": {},
   "outputs": [],
   "source": [
    "# Assign back to data frame. \n",
    "ambu_disp.loc[:, 'day_hours'] = pd.to_numeric(hours_result, downcast = 'signed')\n",
    "\n",
    "print(ambu_disp['day_hours'])"
   ]
  },
  {
   "cell_type": "code",
   "execution_count": null,
   "id": "504f329f-4419-43fd-afe5-c5fd0861af32",
   "metadata": {},
   "outputs": [],
   "source": [
    "# Freq count.\n",
    "hourly_counts = ambu_disp['day_hours'].value_counts().reset_index()\n",
    "print(hourly_counts)"
   ]
  },
  {
   "cell_type": "code",
   "execution_count": null,
   "id": "a46231a2-3ddc-4456-9961-5999f6afb1c1",
   "metadata": {},
   "outputs": [],
   "source": [
    "# Plot.\n",
    "hourly_counts.plot.scatter(x='day_hours', y='count')"
   ]
  }
 ],
 "metadata": {
  "kernelspec": {
   "display_name": "Python 3 (ipykernel)",
   "language": "python",
   "name": "python3"
  },
  "language_info": {
   "codemirror_mode": {
    "name": "ipython",
    "version": 3
   },
   "file_extension": ".py",
   "mimetype": "text/x-python",
   "name": "python",
   "nbconvert_exporter": "python",
   "pygments_lexer": "ipython3",
   "version": "3.12.3"
  }
 },
 "nbformat": 4,
 "nbformat_minor": 5
}
